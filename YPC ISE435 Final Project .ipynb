{
 "cells": [
  {
   "cell_type": "code",
   "execution_count": null,
   "metadata": {},
   "outputs": [],
   "source": [
    "# https://www.kaggle.com/niharika41298/yoga-poses-dataset\n",
    "# The dataset is downloaded from this kaggle profile"
   ]
  },
  {
   "cell_type": "code",
   "execution_count": 1,
   "metadata": {},
   "outputs": [],
   "source": [
    "import pandas as pd\n",
    "import seaborn as sns\n",
    "import matplotlib.pyplot as plt\n",
    "import shutil\n",
    "import cv2\n",
    "import numpy as np\n",
    "import matplotlib.pyplot as plt\n",
    "import random\n",
    "import os\n",
    "from sklearn.metrics import classification_report, confusion_matrix\n",
    "import glob\n",
    "# ---------------------------------------------------------------------------------------------------------------------------------------------------------------------------------------------------------------------------------------------\n",
    "# Tensorflow Libraries\n",
    "# ---------------------------------------------------------------------------------------------------------------------------------------------------------------------------------------------------------------------------------------------\n",
    "import tensorflow as tf\n",
    "from tensorflow.keras import backend as K\n",
    "from tensorflow.keras.callbacks import ModelCheckpoint\n",
    "from tensorflow.keras.preprocessing.image import ImageDataGenerator\n",
    "from tensorflow.keras.models import Sequential\n",
    "from tensorflow.keras.layers import Conv2D, MaxPooling2D\n",
    "from tensorflow.keras.layers import Activation, Dropout, Flatten, Dense\n",
    "from tensorflow.keras.applications import ResNet50, VGG16,MobileNetV2 , ResNet152V2\n",
    "from tensorflow.keras.applications.resnet import preprocess_input\n",
    "\n",
    "from PIL import ImageFile\n",
    "ImageFile.LOAD_TRUNCATED_IMAGES = True\n",
    "\n"
   ]
  },
  {
   "cell_type": "markdown",
   "metadata": {
    "tags": []
   },
   "source": [
    "# Data Visualization"
   ]
  },
  {
   "cell_type": "code",
   "execution_count": 2,
   "metadata": {},
   "outputs": [],
   "source": [
    "import glob\n",
    "import matplotlib.pyplot as plt\n",
    "import seaborn as sns\n",
    "# ------------------------------------------------------------------------------\n",
    "# Train samples\n",
    "# ------------------------------------------------------------------------------\n",
    "downdog = glob.glob('TRAIN/downdog/*.*')\n",
    "goddess = glob.glob('TRAIN/goddess/*.*')\n",
    "plank = glob.glob('TRAIN/plank/*.*')\n",
    "tree = glob.glob('TRAIN/tree/*.*')\n",
    "warrior2 = glob.glob('TRAIN/warrior2/*.*')\n",
    "\n",
    "\n",
    "\n",
    "# ------------------------------------------------------------------------------\n",
    "# Val samples\n",
    "# ------------------------------------------------------------------------------\n",
    "\n",
    "downdog_t = glob.glob('TEST/downdog/*.*')\n",
    "goddess_t = glob.glob('TEST/goddess/*.*')\n",
    "plank_t = glob.glob('TEST/plank/*.*')\n",
    "tree_t = glob.glob('TEST/tree/*.*')\n",
    "warrior2_t = glob.glob('TEST/warrior2/*.*')"
   ]
  },
  {
   "cell_type": "code",
   "execution_count": 4,
   "metadata": {},
   "outputs": [],
   "source": [
    "df1 = pd.DataFrame({\n",
    "    'Yoga_pose': ['downdog','goddess','plank','tree','warrior2'],\n",
    "    'Train_Samples': [len(downdog),len(goddess),len(plank),len(tree),len(warrior2)],\n",
    "    'Val_samples': [len(downdog_t),len(goddess_t),len(plank_t),len(tree_t),len(warrior2_t)]\n",
    "}) # create a dataframe to get number of trained samples and validation samples"
   ]
  },
  {
   "cell_type": "code",
   "execution_count": 5,
   "metadata": {},
   "outputs": [
    {
     "data": {
      "text/html": [
       "<div>\n",
       "<style scoped>\n",
       "    .dataframe tbody tr th:only-of-type {\n",
       "        vertical-align: middle;\n",
       "    }\n",
       "\n",
       "    .dataframe tbody tr th {\n",
       "        vertical-align: top;\n",
       "    }\n",
       "\n",
       "    .dataframe thead th {\n",
       "        text-align: right;\n",
       "    }\n",
       "</style>\n",
       "<table border=\"1\" class=\"dataframe\">\n",
       "  <thead>\n",
       "    <tr style=\"text-align: right;\">\n",
       "      <th></th>\n",
       "      <th>Yoga_pose</th>\n",
       "      <th>Train_Samples</th>\n",
       "      <th>Val_samples</th>\n",
       "    </tr>\n",
       "  </thead>\n",
       "  <tbody>\n",
       "    <tr>\n",
       "      <th>0</th>\n",
       "      <td>downdog</td>\n",
       "      <td>223</td>\n",
       "      <td>97</td>\n",
       "    </tr>\n",
       "    <tr>\n",
       "      <th>1</th>\n",
       "      <td>goddess</td>\n",
       "      <td>180</td>\n",
       "      <td>80</td>\n",
       "    </tr>\n",
       "    <tr>\n",
       "      <th>2</th>\n",
       "      <td>plank</td>\n",
       "      <td>266</td>\n",
       "      <td>115</td>\n",
       "    </tr>\n",
       "    <tr>\n",
       "      <th>3</th>\n",
       "      <td>tree</td>\n",
       "      <td>160</td>\n",
       "      <td>69</td>\n",
       "    </tr>\n",
       "    <tr>\n",
       "      <th>4</th>\n",
       "      <td>warrior2</td>\n",
       "      <td>252</td>\n",
       "      <td>109</td>\n",
       "    </tr>\n",
       "  </tbody>\n",
       "</table>\n",
       "</div>"
      ],
      "text/plain": [
       "  Yoga_pose  Train_Samples  Val_samples\n",
       "0   downdog            223           97\n",
       "1   goddess            180           80\n",
       "2     plank            266          115\n",
       "3      tree            160           69\n",
       "4  warrior2            252          109"
      ]
     },
     "execution_count": 5,
     "metadata": {},
     "output_type": "execute_result"
    }
   ],
   "source": [
    "df1 #create a dataframe"
   ]
  },
  {
   "cell_type": "code",
   "execution_count": 6,
   "metadata": {},
   "outputs": [],
   "source": [
    "dfs1 = pd.melt(df1, id_vars = \"Yoga_pose\")"
   ]
  },
  {
   "cell_type": "code",
   "execution_count": 7,
   "metadata": {},
   "outputs": [
    {
     "data": {
      "text/html": [
       "<div>\n",
       "<style scoped>\n",
       "    .dataframe tbody tr th:only-of-type {\n",
       "        vertical-align: middle;\n",
       "    }\n",
       "\n",
       "    .dataframe tbody tr th {\n",
       "        vertical-align: top;\n",
       "    }\n",
       "\n",
       "    .dataframe thead th {\n",
       "        text-align: right;\n",
       "    }\n",
       "</style>\n",
       "<table border=\"1\" class=\"dataframe\">\n",
       "  <thead>\n",
       "    <tr style=\"text-align: right;\">\n",
       "      <th></th>\n",
       "      <th>Yoga_pose</th>\n",
       "      <th>variable</th>\n",
       "      <th>value</th>\n",
       "    </tr>\n",
       "  </thead>\n",
       "  <tbody>\n",
       "    <tr>\n",
       "      <th>0</th>\n",
       "      <td>downdog</td>\n",
       "      <td>Train_Samples</td>\n",
       "      <td>223</td>\n",
       "    </tr>\n",
       "    <tr>\n",
       "      <th>1</th>\n",
       "      <td>goddess</td>\n",
       "      <td>Train_Samples</td>\n",
       "      <td>180</td>\n",
       "    </tr>\n",
       "    <tr>\n",
       "      <th>2</th>\n",
       "      <td>plank</td>\n",
       "      <td>Train_Samples</td>\n",
       "      <td>266</td>\n",
       "    </tr>\n",
       "    <tr>\n",
       "      <th>3</th>\n",
       "      <td>tree</td>\n",
       "      <td>Train_Samples</td>\n",
       "      <td>160</td>\n",
       "    </tr>\n",
       "    <tr>\n",
       "      <th>4</th>\n",
       "      <td>warrior2</td>\n",
       "      <td>Train_Samples</td>\n",
       "      <td>252</td>\n",
       "    </tr>\n",
       "    <tr>\n",
       "      <th>5</th>\n",
       "      <td>downdog</td>\n",
       "      <td>Val_samples</td>\n",
       "      <td>97</td>\n",
       "    </tr>\n",
       "    <tr>\n",
       "      <th>6</th>\n",
       "      <td>goddess</td>\n",
       "      <td>Val_samples</td>\n",
       "      <td>80</td>\n",
       "    </tr>\n",
       "    <tr>\n",
       "      <th>7</th>\n",
       "      <td>plank</td>\n",
       "      <td>Val_samples</td>\n",
       "      <td>115</td>\n",
       "    </tr>\n",
       "    <tr>\n",
       "      <th>8</th>\n",
       "      <td>tree</td>\n",
       "      <td>Val_samples</td>\n",
       "      <td>69</td>\n",
       "    </tr>\n",
       "    <tr>\n",
       "      <th>9</th>\n",
       "      <td>warrior2</td>\n",
       "      <td>Val_samples</td>\n",
       "      <td>109</td>\n",
       "    </tr>\n",
       "  </tbody>\n",
       "</table>\n",
       "</div>"
      ],
      "text/plain": [
       "  Yoga_pose       variable  value\n",
       "0   downdog  Train_Samples    223\n",
       "1   goddess  Train_Samples    180\n",
       "2     plank  Train_Samples    266\n",
       "3      tree  Train_Samples    160\n",
       "4  warrior2  Train_Samples    252\n",
       "5   downdog    Val_samples     97\n",
       "6   goddess    Val_samples     80\n",
       "7     plank    Val_samples    115\n",
       "8      tree    Val_samples     69\n",
       "9  warrior2    Val_samples    109"
      ]
     },
     "execution_count": 7,
     "metadata": {},
     "output_type": "execute_result"
    }
   ],
   "source": [
    "dfs1"
   ]
  },
  {
   "cell_type": "code",
   "execution_count": 8,
   "metadata": {},
   "outputs": [
    {
     "data": {
      "image/png": "[encoded data removed]",
      "text/plain": [
       "<Figure size 467.5x360 with 1 Axes>"
      ]
     },
     "metadata": {
      "needs_background": "light"
     },
     "output_type": "display_data"
    }
   ],
   "source": [
    "sns.catplot(x = 'Yoga_pose', y='value', \n",
    "               hue = 'variable',data=dfs1, kind='bar')\n",
    "plt.show() # visualizing by barplot"
   ]
  },
  {
   "cell_type": "markdown",
   "metadata": {},
   "source": [
    "# Hyper parameters"
   ]
  },
  {
   "cell_type": "code",
   "execution_count": 10,
   "metadata": {},
   "outputs": [],
   "source": [
    "epochs = 20\n",
    "batch_size = 32\n",
    "drop_out = 0.2\n",
    "activation = 'softmax' # hyper parameters\n",
    "classes = 5\n",
    "\n",
    "# below dunno this are default.\n",
    "optimizer='adam'"
   ]
  },
  {
   "cell_type": "markdown",
   "metadata": {},
   "source": [
    "# Data processing"
   ]
  },
  {
   "cell_type": "code",
   "execution_count": 11,
   "metadata": {},
   "outputs": [
    {
     "name": "stdout",
     "output_type": "stream",
     "text": [
      "(224, 224, 3)\n",
      "Found 1081 images belonging to 5 classes.\n",
      "Found 470 images belonging to 5 classes.\n"
     ]
    }
   ],
   "source": [
    "# Data Pre processing\n",
    "\n",
    "train_dir = \"TRAIN\"\n",
    "test_dir = \"TEST\"\n",
    "\n",
    "# dimensions of our images.\n",
    "img_width, img_height = 224, 224\n",
    "train_data_dir = train_dir\n",
    "validation_data_dir = test_dir\n",
    "nb_train_samples = 1081\n",
    "nb_validation_samples = 470\n",
    "\n",
    "\n",
    "\n",
    "if K.image_data_format() == 'channels_first':\n",
    "    input_shape = (3 , img_width , img_height)\n",
    "else:\n",
    "\n",
    "    input_shape = (img_width,img_height,3)\n",
    "    \n",
    "print(input_shape)\n",
    "\n",
    "\n",
    "# this is the augmentation configuration we will use for training\n",
    "train_datagen = ImageDataGenerator(\n",
    "rescale=1. / 255,horizontal_flip=True,vertical_flip=True,rotation_range=180)\n",
    "# this is the augmentation configuration we will use for testing:\n",
    "# only rescaling\n",
    "test_datagen = ImageDataGenerator(rescale=1. / 255)\n",
    "\n",
    "train_generator = train_datagen.flow_from_directory(\n",
    "train_dir,\n",
    "target_size=(img_width, img_height),\n",
    "batch_size=batch_size,\n",
    "class_mode='categorical')\n",
    "\n",
    "\n",
    "\n",
    "\n",
    "validation_generator = train_datagen.flow_from_directory(\n",
    "test_dir,\n",
    "target_size=(img_width, img_height),\n",
    "batch_size=batch_size,\n",
    "class_mode='categorical')"
   ]
  },
  {
   "cell_type": "markdown",
   "metadata": {},
   "source": [
    "# Pre_train_models"
   ]
  },
  {
   "cell_type": "code",
   "execution_count": 12,
   "metadata": {},
   "outputs": [],
   "source": [
    "def vgg16():\n",
    "    model1 = Sequential()\n",
    "    checkpoint = ModelCheckpoint(filepath='vgg16.h5', mode='max', monitor='val_accuracy', verbose=2, save_best_only=True)\n",
    "    callbacks_list = [checkpoint]\n",
    "    vgg16_model = VGG16(weights='imagenet',include_top=False, input_shape=input_shape)\n",
    "    model1.add(vgg16_model)\n",
    "    model1.add(Flatten())\n",
    "    model1.add(Dropout(drop_out))\n",
    "    model1.add(Dense(classes,activation = activation))\n",
    "    model1.layers[0].trainable = False\n",
    "    model1.summary()\n",
    "    model1.compile(loss='categorical_crossentropy',optimizer='adam',metrics=['accuracy'])\n",
    "    model1.fit(\n",
    "    train_generator,\n",
    "    steps_per_epoch=nb_train_samples // batch_size,\n",
    "    epochs=epochs,\n",
    "    validation_data=validation_generator,\n",
    "    validation_steps=nb_validation_samples // batch_size,callbacks = callbacks_list)"
   ]
  },
  {
   "cell_type": "code",
   "execution_count": 13,
   "metadata": {},
   "outputs": [],
   "source": [
    "def mobilenet():\n",
    "    model5= Sequential()\n",
    "    checkpoint = ModelCheckpoint(filepath='mobilenet_B1.h5', mode='max', monitor='val_accuracy', verbose=2, save_best_only=True)\n",
    "    callbacks_list = [checkpoint]\n",
    "    mobilenet_model = MobileNetV2(weights='imagenet',include_top=False, input_shape=input_shape)\n",
    "    model5.add(mobilenet_model)\n",
    "    model5.add(Flatten())\n",
    "    model5.add(Dropout(drop_out))\n",
    "    model5.add(Dense(classes,activation = activation))\n",
    "    model5.layers[0].trainable = False\n",
    "    model5.summary()\n",
    "    model5.compile(loss='categorical_crossentropy',optimizer='adam',metrics=['accuracy'])\n",
    "    model5.fit(\n",
    "    train_generator,\n",
    "    steps_per_epoch=nb_train_samples // batch_size,\n",
    "    epochs=epochs,verbose=1,\n",
    "    validation_data=validation_generator,\n",
    "    validation_steps=nb_validation_samples // batch_size,callbacks = callbacks_list)"
   ]
  },
  {
   "cell_type": "code",
   "execution_count": 14,
   "metadata": {},
   "outputs": [
    {
     "name": "stdout",
     "output_type": "stream",
     "text": [
      "Model: \"sequential\"\n",
      "_________________________________________________________________\n",
      " Layer (type)                Output Shape              Param #   \n",
      "=================================================================\n",
      " vgg16 (Functional)          (None, 7, 7, 512)         14714688  \n",
      "                                                                 \n",
      " flatten (Flatten)           (None, 25088)             0         \n",
      "                                                                 \n",
      " dropout (Dropout)           (None, 25088)             0         \n",
      "                                                                 \n",
      " dense (Dense)               (None, 5)                 125445    \n",
      "                                                                 \n",
      "=================================================================\n",
      "Total params: 14,840,133\n",
      "Trainable params: 125,445\n",
      "Non-trainable params: 14,714,688\n",
      "_________________________________________________________________\n",
      "Epoch 1/20\n",
      " 3/33 [=>............................] - ETA: 4:04 - loss: 2.6774 - accuracy: 0.2083"
     ]
    },
    {
     "name": "stderr",
     "output_type": "stream",
     "text": [
      "C:\\Users\\rvchi\\Anaconda3\\lib\\site-packages\\PIL\\Image.py:960: UserWarning: Palette images with Transparency expressed in bytes should be converted to RGBA images\n",
      "  warnings.warn(\n"
     ]
    },
    {
     "name": "stdout",
     "output_type": "stream",
     "text": [
      "33/33 [==============================] - ETA: 0s - loss: 1.8495 - accuracy: 0.3518 "
     ]
    },
    {
     "name": "stderr",
     "output_type": "stream",
     "text": [
      "C:\\Users\\rvchi\\Anaconda3\\lib\\site-packages\\PIL\\TiffImagePlugin.py:763: UserWarning: Possibly corrupt EXIF data.  Expecting to read 11 bytes but only got 10. Skipping tag 42037\n",
      "  warnings.warn(\n"
     ]
    },
    {
     "name": "stdout",
     "output_type": "stream",
     "text": [
      "\n",
      "Epoch 00001: val_accuracy improved from -inf to 0.64732, saving model to vgg16.h5\n",
      "33/33 [==============================] - 522s 16s/step - loss: 1.8495 - accuracy: 0.3518 - val_loss: 0.9152 - val_accuracy: 0.6473\n",
      "Epoch 2/20\n",
      "33/33 [==============================] - ETA: 0s - loss: 1.1421 - accuracy: 0.5663\n",
      "Epoch 00002: val_accuracy improved from 0.64732 to 0.75446, saving model to vgg16.h5\n",
      "33/33 [==============================] - 447s 14s/step - loss: 1.1421 - accuracy: 0.5663 - val_loss: 0.7200 - val_accuracy: 0.7545\n",
      "Epoch 3/20\n",
      "33/33 [==============================] - ETA: 0s - loss: 0.8512 - accuracy: 0.6864\n",
      "Epoch 00003: val_accuracy improved from 0.75446 to 0.80580, saving model to vgg16.h5\n",
      "33/33 [==============================] - 433s 13s/step - loss: 0.8512 - accuracy: 0.6864 - val_loss: 0.5540 - val_accuracy: 0.8058\n",
      "Epoch 4/20\n",
      "33/33 [==============================] - ETA: 0s - loss: 0.8353 - accuracy: 0.6816 \n",
      "Epoch 00004: val_accuracy improved from 0.80580 to 0.81250, saving model to vgg16.h5\n",
      "33/33 [==============================] - 1614s 50s/step - loss: 0.8353 - accuracy: 0.6816 - val_loss: 0.5519 - val_accuracy: 0.8125\n",
      "Epoch 5/20\n",
      "33/33 [==============================] - ETA: 0s - loss: 0.7577 - accuracy: 0.7331\n",
      "Epoch 00005: val_accuracy improved from 0.81250 to 0.84821, saving model to vgg16.h5\n",
      "33/33 [==============================] - 278s 8s/step - loss: 0.7577 - accuracy: 0.7331 - val_loss: 0.4616 - val_accuracy: 0.8482\n",
      "Epoch 6/20\n",
      "33/33 [==============================] - ETA: 0s - loss: 0.6813 - accuracy: 0.7598\n",
      "Epoch 00006: val_accuracy did not improve from 0.84821\n",
      "33/33 [==============================] - 279s 9s/step - loss: 0.6813 - accuracy: 0.7598 - val_loss: 0.4770 - val_accuracy: 0.8415\n",
      "Epoch 7/20\n",
      "33/33 [==============================] - ETA: 0s - loss: 0.6746 - accuracy: 0.7655\n",
      "Epoch 00007: val_accuracy did not improve from 0.84821\n",
      "33/33 [==============================] - 276s 8s/step - loss: 0.6746 - accuracy: 0.7655 - val_loss: 0.5222 - val_accuracy: 0.7946\n",
      "Epoch 8/20\n",
      "33/33 [==============================] - ETA: 0s - loss: 0.6239 - accuracy: 0.7903\n",
      "Epoch 00008: val_accuracy improved from 0.84821 to 0.86384, saving model to vgg16.h5\n",
      "33/33 [==============================] - 285s 9s/step - loss: 0.6239 - accuracy: 0.7903 - val_loss: 0.4083 - val_accuracy: 0.8638\n",
      "Epoch 9/20\n",
      "33/33 [==============================] - ETA: 0s - loss: 0.5644 - accuracy: 0.7998\n",
      "Epoch 00009: val_accuracy did not improve from 0.86384\n",
      "33/33 [==============================] - 281s 9s/step - loss: 0.5644 - accuracy: 0.7998 - val_loss: 0.4307 - val_accuracy: 0.8304\n",
      "Epoch 10/20\n",
      "33/33 [==============================] - ETA: 0s - loss: 0.5568 - accuracy: 0.7969\n",
      "Epoch 00010: val_accuracy did not improve from 0.86384\n",
      "33/33 [==============================] - 286s 9s/step - loss: 0.5568 - accuracy: 0.7969 - val_loss: 0.4275 - val_accuracy: 0.8549\n",
      "Epoch 11/20\n",
      "33/33 [==============================] - ETA: 0s - loss: 0.5585 - accuracy: 0.8122\n",
      "Epoch 00011: val_accuracy did not improve from 0.86384\n",
      "33/33 [==============================] - 283s 9s/step - loss: 0.5585 - accuracy: 0.8122 - val_loss: 0.3769 - val_accuracy: 0.8594\n",
      "Epoch 12/20\n",
      "33/33 [==============================] - ETA: 0s - loss: 0.4740 - accuracy: 0.8341\n",
      "Epoch 00012: val_accuracy improved from 0.86384 to 0.88839, saving model to vgg16.h5\n",
      "33/33 [==============================] - 281s 9s/step - loss: 0.4740 - accuracy: 0.8341 - val_loss: 0.3609 - val_accuracy: 0.8884\n",
      "Epoch 13/20\n",
      "33/33 [==============================] - ETA: 0s - loss: 0.4802 - accuracy: 0.8379\n",
      "Epoch 00013: val_accuracy did not improve from 0.88839\n",
      "33/33 [==============================] - 283s 9s/step - loss: 0.4802 - accuracy: 0.8379 - val_loss: 0.5106 - val_accuracy: 0.8214\n",
      "Epoch 14/20\n",
      "33/33 [==============================] - ETA: 0s - loss: 0.4749 - accuracy: 0.8284\n",
      "Epoch 00014: val_accuracy did not improve from 0.88839\n",
      "33/33 [==============================] - 301s 9s/step - loss: 0.4749 - accuracy: 0.8284 - val_loss: 0.3931 - val_accuracy: 0.8549\n",
      "Epoch 15/20\n",
      "33/33 [==============================] - ETA: 0s - loss: 0.4405 - accuracy: 0.8475\n",
      "Epoch 00015: val_accuracy did not improve from 0.88839\n",
      "33/33 [==============================] - 288s 9s/step - loss: 0.4405 - accuracy: 0.8475 - val_loss: 0.3912 - val_accuracy: 0.8549\n",
      "Epoch 16/20\n",
      "33/33 [==============================] - ETA: 0s - loss: 0.4845 - accuracy: 0.8246\n",
      "Epoch 00016: val_accuracy did not improve from 0.88839\n",
      "33/33 [==============================] - 283s 9s/step - loss: 0.4845 - accuracy: 0.8246 - val_loss: 0.4828 - val_accuracy: 0.8281\n",
      "Epoch 17/20\n",
      "33/33 [==============================] - ETA: 0s - loss: 0.4197 - accuracy: 0.8561\n",
      "Epoch 00017: val_accuracy did not improve from 0.88839\n",
      "33/33 [==============================] - 288s 9s/step - loss: 0.4197 - accuracy: 0.8561 - val_loss: 0.3522 - val_accuracy: 0.8817\n",
      "Epoch 18/20\n",
      "33/33 [==============================] - ETA: 0s - loss: 0.3425 - accuracy: 0.8856\n",
      "Epoch 00018: val_accuracy did not improve from 0.88839\n",
      "33/33 [==============================] - 281s 9s/step - loss: 0.3425 - accuracy: 0.8856 - val_loss: 0.3962 - val_accuracy: 0.8527\n",
      "Epoch 19/20\n",
      "33/33 [==============================] - ETA: 0s - loss: 0.3474 - accuracy: 0.8808\n",
      "Epoch 00019: val_accuracy did not improve from 0.88839\n",
      "33/33 [==============================] - 301s 9s/step - loss: 0.3474 - accuracy: 0.8808 - val_loss: 0.3080 - val_accuracy: 0.8884\n",
      "Epoch 20/20\n",
      "33/33 [==============================] - ETA: 0s - loss: 0.3647 - accuracy: 0.8818\n",
      "Epoch 00020: val_accuracy improved from 0.88839 to 0.89732, saving model to vgg16.h5\n",
      "33/33 [==============================] - 286s 9s/step - loss: 0.3647 - accuracy: 0.8818 - val_loss: 0.3520 - val_accuracy: 0.8973\n"
     ]
    }
   ],
   "source": [
    "vgg16()"
   ]
  },
  {
   "cell_type": "code",
   "execution_count": 15,
   "metadata": {},
   "outputs": [
    {
     "name": "stdout",
     "output_type": "stream",
     "text": [
      "Model: \"sequential_1\"\n",
      "_________________________________________________________________\n",
      " Layer (type)                Output Shape              Param #   \n",
      "=================================================================\n",
      " mobilenetv2_1.00_224 (Funct  (None, 7, 7, 1280)       2257984   \n",
      " ional)                                                          \n",
      "                                                                 \n",
      " flatten_1 (Flatten)         (None, 62720)             0         \n",
      "                                                                 \n",
      " dropout_1 (Dropout)         (None, 62720)             0         \n",
      "                                                                 \n",
      " dense_1 (Dense)             (None, 5)                 313605    \n",
      "                                                                 \n",
      "=================================================================\n",
      "Total params: 2,571,589\n",
      "Trainable params: 313,605\n",
      "Non-trainable params: 2,257,984\n",
      "_________________________________________________________________\n",
      "Epoch 1/20\n",
      "33/33 [==============================] - ETA: 0s - loss: 8.1098 - accuracy: 0.4261\n",
      "Epoch 00001: val_accuracy improved from -inf to 0.68527, saving model to mobilenet_B1.h5\n"
     ]
    },
    {
     "name": "stderr",
     "output_type": "stream",
     "text": [
      "C:\\Users\\rvchi\\Anaconda3\\lib\\site-packages\\keras\\engine\\functional.py:1410: CustomMaskWarning: Custom mask layers require a config and must override get_config. When loading, the custom mask layer must be passed to the custom_objects argument.\n",
      "  layer_config = serialize_layer_fn(layer)\n"
     ]
    },
    {
     "name": "stdout",
     "output_type": "stream",
     "text": [
      "33/33 [==============================] - 68s 2s/step - loss: 8.1098 - accuracy: 0.4261 - val_loss: 2.3008 - val_accuracy: 0.6853\n",
      "Epoch 2/20\n",
      "33/33 [==============================] - ETA: 0s - loss: 3.0849 - accuracy: 0.6606\n",
      "Epoch 00002: val_accuracy improved from 0.68527 to 0.75000, saving model to mobilenet_B1.h5\n",
      "33/33 [==============================] - 70s 2s/step - loss: 3.0849 - accuracy: 0.6606 - val_loss: 1.9788 - val_accuracy: 0.7500\n",
      "Epoch 3/20\n",
      "33/33 [==============================] - ETA: 0s - loss: 2.1822 - accuracy: 0.7274\n",
      "Epoch 00003: val_accuracy improved from 0.75000 to 0.75893, saving model to mobilenet_B1.h5\n",
      "33/33 [==============================] - 71s 2s/step - loss: 2.1822 - accuracy: 0.7274 - val_loss: 1.7788 - val_accuracy: 0.7589\n",
      "Epoch 4/20\n",
      "33/33 [==============================] - ETA: 0s - loss: 1.8541 - accuracy: 0.7607\n",
      "Epoch 00004: val_accuracy improved from 0.75893 to 0.77679, saving model to mobilenet_B1.h5\n",
      "33/33 [==============================] - 82s 3s/step - loss: 1.8541 - accuracy: 0.7607 - val_loss: 1.6680 - val_accuracy: 0.7768\n",
      "Epoch 5/20\n",
      "33/33 [==============================] - ETA: 0s - loss: 2.3249 - accuracy: 0.7321\n",
      "Epoch 00005: val_accuracy improved from 0.77679 to 0.78571, saving model to mobilenet_B1.h5\n",
      "33/33 [==============================] - 66s 2s/step - loss: 2.3249 - accuracy: 0.7321 - val_loss: 1.8636 - val_accuracy: 0.7857\n",
      "Epoch 6/20\n",
      "33/33 [==============================] - ETA: 0s - loss: 1.9140 - accuracy: 0.7817\n",
      "Epoch 00006: val_accuracy did not improve from 0.78571\n",
      "33/33 [==============================] - 68s 2s/step - loss: 1.9140 - accuracy: 0.7817 - val_loss: 2.5580 - val_accuracy: 0.7277\n",
      "Epoch 7/20\n",
      "33/33 [==============================] - ETA: 0s - loss: 1.8598 - accuracy: 0.7712\n",
      "Epoch 00007: val_accuracy did not improve from 0.78571\n",
      "33/33 [==============================] - 68s 2s/step - loss: 1.8598 - accuracy: 0.7712 - val_loss: 2.0149 - val_accuracy: 0.7790\n",
      "Epoch 8/20\n",
      "33/33 [==============================] - ETA: 0s - loss: 1.5405 - accuracy: 0.8017\n",
      "Epoch 00008: val_accuracy improved from 0.78571 to 0.82366, saving model to mobilenet_B1.h5\n",
      "33/33 [==============================] - 200s 6s/step - loss: 1.5405 - accuracy: 0.8017 - val_loss: 1.4726 - val_accuracy: 0.8237\n",
      "Epoch 9/20\n",
      "33/33 [==============================] - ETA: 0s - loss: 1.7692 - accuracy: 0.8084\n",
      "Epoch 00009: val_accuracy did not improve from 0.82366\n",
      "33/33 [==============================] - 88s 3s/step - loss: 1.7692 - accuracy: 0.8084 - val_loss: 2.3893 - val_accuracy: 0.7656\n",
      "Epoch 10/20\n",
      "33/33 [==============================] - ETA: 0s - loss: 1.5697 - accuracy: 0.8208\n",
      "Epoch 00010: val_accuracy did not improve from 0.82366\n",
      "33/33 [==============================] - 149s 5s/step - loss: 1.5697 - accuracy: 0.8208 - val_loss: 1.7847 - val_accuracy: 0.8036\n",
      "Epoch 11/20\n",
      "33/33 [==============================] - ETA: 0s - loss: 1.5104 - accuracy: 0.8170 \n",
      "Epoch 00011: val_accuracy did not improve from 0.82366\n",
      "33/33 [==============================] - 1679s 52s/step - loss: 1.5104 - accuracy: 0.8170 - val_loss: 3.1018 - val_accuracy: 0.7656\n",
      "Epoch 12/20\n",
      "33/33 [==============================] - ETA: 0s - loss: 1.6078 - accuracy: 0.8398\n",
      "Epoch 00012: val_accuracy did not improve from 0.82366\n",
      "33/33 [==============================] - 65s 2s/step - loss: 1.6078 - accuracy: 0.8398 - val_loss: 2.1230 - val_accuracy: 0.8080\n",
      "Epoch 13/20\n",
      "33/33 [==============================] - ETA: 0s - loss: 1.7872 - accuracy: 0.8398\n",
      "Epoch 00013: val_accuracy did not improve from 0.82366\n",
      "33/33 [==============================] - 68s 2s/step - loss: 1.7872 - accuracy: 0.8398 - val_loss: 3.0553 - val_accuracy: 0.7522\n",
      "Epoch 14/20\n",
      "33/33 [==============================] - ETA: 0s - loss: 1.8286 - accuracy: 0.8294\n",
      "Epoch 00014: val_accuracy improved from 0.82366 to 0.82589, saving model to mobilenet_B1.h5\n",
      "33/33 [==============================] - 85s 3s/step - loss: 1.8286 - accuracy: 0.8294 - val_loss: 2.1170 - val_accuracy: 0.8259\n",
      "Epoch 15/20\n",
      "33/33 [==============================] - ETA: 0s - loss: 1.3138 - accuracy: 0.8599\n",
      "Epoch 00015: val_accuracy did not improve from 0.82589\n",
      "33/33 [==============================] - 69s 2s/step - loss: 1.3138 - accuracy: 0.8599 - val_loss: 2.2771 - val_accuracy: 0.7991\n",
      "Epoch 16/20\n",
      "33/33 [==============================] - ETA: 0s - loss: 1.3710 - accuracy: 0.8704\n",
      "Epoch 00016: val_accuracy did not improve from 0.82589\n",
      "33/33 [==============================] - 69s 2s/step - loss: 1.3710 - accuracy: 0.8704 - val_loss: 2.3912 - val_accuracy: 0.8058\n",
      "Epoch 17/20\n",
      "33/33 [==============================] - ETA: 0s - loss: 1.7393 - accuracy: 0.8427\n",
      "Epoch 00017: val_accuracy did not improve from 0.82589\n",
      "33/33 [==============================] - 64s 2s/step - loss: 1.7393 - accuracy: 0.8427 - val_loss: 2.3696 - val_accuracy: 0.8147\n",
      "Epoch 18/20\n",
      "33/33 [==============================] - ETA: 0s - loss: 1.1676 - accuracy: 0.8742\n",
      "Epoch 00018: val_accuracy did not improve from 0.82589\n",
      "33/33 [==============================] - 67s 2s/step - loss: 1.1676 - accuracy: 0.8742 - val_loss: 2.7583 - val_accuracy: 0.8103\n",
      "Epoch 19/20\n",
      "33/33 [==============================] - ETA: 0s - loss: 1.4149 - accuracy: 0.8570\n",
      "Epoch 00019: val_accuracy did not improve from 0.82589\n",
      "33/33 [==============================] - 66s 2s/step - loss: 1.4149 - accuracy: 0.8570 - val_loss: 2.1952 - val_accuracy: 0.8192\n",
      "Epoch 20/20\n",
      "33/33 [==============================] - ETA: 0s - loss: 1.5589 - accuracy: 0.8627\n",
      "Epoch 00020: val_accuracy improved from 0.82589 to 0.83705, saving model to mobilenet_B1.h5\n",
      "33/33 [==============================] - 133s 4s/step - loss: 1.5589 - accuracy: 0.8627 - val_loss: 2.1431 - val_accuracy: 0.8371\n"
     ]
    }
   ],
   "source": [
    "mobilenet()"
   ]
  },
  {
   "cell_type": "code",
   "execution_count": 16,
   "metadata": {
    "scrolled": true
   },
   "outputs": [
    {
     "name": "stdout",
     "output_type": "stream",
     "text": [
      "15/15 [==============================] - 87s 6s/step - loss: 0.3399 - accuracy: 0.8915\n",
      "89.15\n",
      "0.34\n",
      "Confusion Matrix\n",
      "Classification Report\n",
      "              precision    recall  f1-score   support\n",
      "\n",
      "     downdog       0.22      0.22      0.22        97\n",
      "     goddess       0.06      0.06      0.06        80\n",
      "       plank       0.24      0.22      0.23       115\n",
      "        tree       0.12      0.14      0.13        69\n",
      "    warrior2       0.23      0.24      0.24       109\n",
      "\n",
      "    accuracy                           0.19       470\n",
      "   macro avg       0.18      0.18      0.18       470\n",
      "weighted avg       0.19      0.19      0.19       470\n",
      "\n"
     ]
    },
    {
     "data": {
      "image/png": "[encoded data removed]",
      "text/plain": [
       "<Figure size 864x432 with 2 Axes>"
      ]
     },
     "metadata": {
      "needs_background": "light"
     },
     "output_type": "display_data"
    }
   ],
   "source": [
    "model1 = tf.keras.models.load_model(\"vgg16.h5\")\n",
    "score , acc = model1.evaluate(validation_generator)\n",
    "accuracy = round(acc*100,2)\n",
    "loss = round(score,2)\n",
    "\n",
    "print(accuracy)\n",
    "print(loss)\n",
    "\n",
    "vg = pd.DataFrame({\n",
    "    'Model': 'VGG16',\n",
    "    'epochs': [epochs],\n",
    "    'batch_size':[batch_size],\n",
    "    'drop_out':[drop_out],\n",
    "    'optimizer':[optimizer],\n",
    "    'accuracy':[accuracy],\n",
    "    'loss':[loss],\n",
    "})\n",
    "\n",
    "#Confusion Matrix\n",
    "print('Confusion Matrix')\n",
    "Y_pred = model1.predict(validation_generator, nb_validation_samples // batch_size+1)\n",
    "y_pred = np.argmax(Y_pred, axis=1)\n",
    "categories = ['downdog','goddess','plank','tree','warrior2']\n",
    "\n",
    "cm1 = pd.DataFrame(confusion_matrix(validation_generator.classes, y_pred),columns=categories, index =categories)\n",
    "plt.figure(figsize=(12, 6))\n",
    "plt.title('####  THE CONFUSION MATRIX OF THE MODEL WITH TESTING DATA ####')\n",
    "sns.heatmap(cm1, annot = True, fmt = 'g' ,vmin = 0, cmap = 'Blues')\n",
    "\n",
    "\n",
    "# Classification Report\n",
    "print('Classification Report')\n",
    "target_names = ['downdog','goddess','plank','tree','warrior2']\n",
    "print(classification_report(validation_generator.classes, y_pred, target_names=target_names))\n",
    "vg_c = pd.DataFrame(classification_report(validation_generator.classes, y_pred, target_names=target_names,output_dict=True)).transpose()"
   ]
  },
  {
   "cell_type": "code",
   "execution_count": null,
   "metadata": {},
   "outputs": [
    {
     "name": "stdout",
     "output_type": "stream",
     "text": [
      " 5/15 [=========>....................] - ETA: 1:10 - loss: 0.2540 - accuracy: 0.9062"
     ]
    }
   ],
   "source": [
    "from sklearn.metrics import classification_report, confusion_matrix\n",
    "\n",
    "model1 = tf.keras.models.load_model(\"vgg16.h5\")\n",
    "score , acc = model1.evaluate(validation_generator)\n",
    "accuracy = round(acc*100,2)\n",
    "loss = round(score,2)\n",
    "\n",
    "print(accuracy)\n",
    "print(loss)\n",
    "\n",
    "vg = pd.DataFrame({\n",
    "    'Model': 'VGG16',\n",
    "    'epochs': [epochs],\n",
    "    'batch_size':[batch_size],\n",
    "    'drop_out':[drop_out],\n",
    "    'optimizer':[optimizer],\n",
    "    'accuracy':[accuracy],\n",
    "    'loss':[loss],\n",
    "})\n",
    "\n",
    "#Confusion Matrix\n",
    "print('Confusion Matrix')\n",
    "Y_pred = model1.predict(validation_generator, nb_validation_samples // batch_size+1)\n",
    "y_pred = np.argmax(Y_pred, axis=1)\n",
    "categories = ['downdog','goddess','plank','tree','warrior2']\n",
    "\n",
    "cm1 = pd.DataFrame(confusion_matrix(validation_generator.classes, y_pred),columns=categories, index =categories)\n",
    "plt.figure(figsize=(12, 6))\n",
    "plt.title('####  THE CONFUSION MATRIX OF THE MODEL WITH TESTING DATA ####')\n",
    "sns.heatmap(cm1, annot = True, fmt = 'g' ,vmin = 0, cmap = 'Blues')\n",
    "\n",
    "\n",
    "# Classification Report\n",
    "print('Classification Report')\n",
    "target_names = ['downdog','goddess','plank','tree','warrior2']\n",
    "print(classification_report(validation_generator.classes, y_pred, target_names=target_names))\n",
    "vg_c = pd.DataFrame(classification_report(validation_generator.classes, y_pred, target_names=target_names,output_dict=True)).transpose()"
   ]
  },
  {
   "cell_type": "code",
   "execution_count": 6,
   "metadata": {},
   "outputs": [],
   "source": [
    "model = tf.keras.models.load_model(\"vgg16.h5\")\n",
    "# img = 'unbalanced_data/train/akiec/ISIC_0026149.jpg'\n",
    "img= cv2.imread(\"sampletest.jpg\")\n",
    "img= cv2.cvtColor(img, cv2.COLOR_RGB2BGR)\n",
    "img= cv2.resize(img,(224,224))\n",
    "image = np.asfarray(img)\n",
    "image = image / 225\n",
    "image = np.expand_dims(image,0)\n",
    "\n",
    "\n",
    "\n",
    "\n",
    "def predict(image: np.ndarray):\n",
    "    label = {'downdog':0,'goddess':1,'plank':2,'tree':3,'warrior2':4}\n",
    "    classes = list(label)\n",
    "    predictions = classes[np.argmax(model.predict(image))]\n",
    "    prob = model.predict(image)\n",
    "    temp = ['downdog','goddess','plank','tree','warrior2']\n",
    "    dum = 0\n",
    "    for i in temp:\n",
    "        label[i] = str(round(prob[0][dum]*100,2)) + '%'\n",
    "        dum += 1\n",
    "    a = str(label).replace(\"{\",'')\n",
    "    b = a.replace(\"}\",'')\n",
    "    c = b.replace(\",\" , \"\\n\")\n",
    "    d = c.replace(\"'\",'')\n",
    "    dic = {'prediction':predictions,'probability':d}\n",
    "    return dic"
   ]
  },
  {
   "cell_type": "code",
   "execution_count": 7,
   "metadata": {},
   "outputs": [
    {
     "data": {
      "text/plain": [
       "'plank'"
      ]
     },
     "execution_count": 7,
     "metadata": {},
     "output_type": "execute_result"
    }
   ],
   "source": [
    "predict(image).get('prediction')"
   ]
  },
  {
   "cell_type": "code",
   "execution_count": 8,
   "metadata": {},
   "outputs": [
    {
     "data": {
      "text/plain": [
       "'downdog: 9.74%\\n goddess: 0.11%\\n plank: 88.8%\\n tree: 1.19%\\n warrior2: 0.15%'"
      ]
     },
     "execution_count": 8,
     "metadata": {},
     "output_type": "execute_result"
    }
   ],
   "source": [
    "predict(image).get('probability')"
   ]
  }
 ],
 "metadata": {
  "kernelspec": {
   "display_name": "Python 3",
   "language": "python",
   "name": "python3"
  },
  "language_info": {
   "codemirror_mode": {
    "name": "ipython",
    "version": 3
   },
   "file_extension": ".py",
   "mimetype": "text/x-python",
   "name": "python",
   "nbconvert_exporter": "python",
   "pygments_lexer": "ipython3",
   "version": "3.8.3"
  }
 },
 "nbformat": 4,
 "nbformat_minor": 5
}
